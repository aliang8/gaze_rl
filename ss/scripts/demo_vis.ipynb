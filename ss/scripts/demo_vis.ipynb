{
 "cells": [
  {
   "cell_type": "code",
   "execution_count": 1,
   "metadata": {},
   "outputs": [],
   "source": [
    "import pickle\n",
    "import numpy as np"
   ]
  },
  {
   "cell_type": "code",
   "execution_count": 2,
   "metadata": {},
   "outputs": [],
   "source": [
    "def inspect_pickle_file(file_path):\n",
    "    \"\"\"\n",
    "    Loads a pickle file and prints basic information about its contents.\n",
    "\n",
    "    Args:\n",
    "        file_path (str): Path to the pickle file.\n",
    "    \"\"\"\n",
    "    # Open the file in binary read mode and load the data\n",
    "    with open(file_path, \"rb\") as file:\n",
    "        data = pickle.load(file)\n",
    "\n",
    "    # Print the type of the loaded data\n",
    "    print(f\"Type of data: {type(data)}\")\n",
    "\n",
    "    # If it's a dictionary, show its keys and some details\n",
    "    if isinstance(data, dict):\n",
    "        print(\"Keys in the dictionary:\")\n",
    "        for key in data.keys():\n",
    "            value = data[key]\n",
    "            # Include length if the value has a length (e.g., list, array)\n",
    "            len_str = f\", len={len(value)}\" if hasattr(value, \"__len__\") else \"\"\n",
    "            print(f\"  {key}: type={type(value)}{len_str}\")\n",
    "\n",
    "        # Show details of the first observation if present\n",
    "        if \"observations\" in data and len(data[\"observations\"]) > 0:\n",
    "            first_obs = data[\"observations\"][0]\n",
    "            print(\"\\nFirst observation:\")\n",
    "            if isinstance(first_obs, dict):\n",
    "                for obs_key, obs_value in first_obs.items():\n",
    "                    if isinstance(obs_value, np.ndarray):\n",
    "                        print(\n",
    "                            f\"  {obs_key}: shape={obs_value.shape}, dtype={obs_value.dtype}\"\n",
    "                        )\n",
    "                    else:\n",
    "                        print(f\"  {obs_key}: {obs_value}\")\n",
    "\n",
    "        # Show the first action if present\n",
    "        if \"actions\" in data and len(data[\"actions\"]) > 0:\n",
    "            print(\"\\nFirst action:\")\n",
    "            print(f\"  {data['actions'][0]}\")\n",
    "\n",
    "    # If it's a list, show its length and first element\n",
    "    elif isinstance(data, list):\n",
    "        print(f\"Length of list: {len(data)}\")\n",
    "        if len(data) > 0:\n",
    "            print(f\"First element: {data[0]}\")\n",
    "\n",
    "    # For other types, just print the data\n",
    "    else:\n",
    "        print(f\"Data: {data}\")"
   ]
  },
  {
   "cell_type": "code",
   "execution_count": 3,
   "metadata": {},
   "outputs": [
    {
     "name": "stdout",
     "output_type": "stream",
     "text": [
      "Type of data: <class 'dict'>\n",
      "Keys in the dictionary:\n",
      "  observations: type=<class 'list'>, len=45\n",
      "  actions: type=<class 'list'>, len=45\n",
      "  rewards: type=<class 'list'>, len=45\n",
      "  terminated: type=<class 'list'>, len=45\n",
      "  truncated: type=<class 'list'>, len=45\n",
      "  infos: type=<class 'list'>, len=45\n",
      "\n",
      "First observation:\n",
      "  joint_pos: shape=(7,), dtype=float64\n",
      "  eef_pos: shape=(3,), dtype=float64\n",
      "  eef_quat: shape=(4,), dtype=float64\n",
      "  gripper_pos: shape=(2,), dtype=float64\n",
      "  front_view: shape=(224, 224, 3), dtype=uint8\n",
      "  top_view: shape=(224, 224, 3), dtype=uint8\n",
      "  left_view: shape=(224, 224, 3), dtype=uint8\n",
      "  right_view: shape=(224, 224, 3), dtype=uint8\n",
      "  blocks_poses: shape=(14,), dtype=float64\n",
      "\n",
      "First action:\n",
      "  (array([ 0.        ,  0.        , -0.00037796,  0.        ,  0.        ,\n",
      "        0.        ]), np.float64(0.0))\n"
     ]
    }
   ],
   "source": [
    "file_path = \"/home/dhanush/dhanush_ws/lira/ss/scripts/demonstrations/episode_0.pkl\"  # Replace with your pickle file path\n",
    "inspect_pickle_file(file_path)"
   ]
  },
  {
   "cell_type": "code",
   "execution_count": null,
   "metadata": {},
   "outputs": [],
   "source": []
  }
 ],
 "metadata": {
  "kernelspec": {
   "display_name": "gaze",
   "language": "python",
   "name": "python3"
  },
  "language_info": {
   "codemirror_mode": {
    "name": "ipython",
    "version": 3
   },
   "file_extension": ".py",
   "mimetype": "text/x-python",
   "name": "python",
   "nbconvert_exporter": "python",
   "pygments_lexer": "ipython3",
   "version": "3.12.9"
  }
 },
 "nbformat": 4,
 "nbformat_minor": 2
}
